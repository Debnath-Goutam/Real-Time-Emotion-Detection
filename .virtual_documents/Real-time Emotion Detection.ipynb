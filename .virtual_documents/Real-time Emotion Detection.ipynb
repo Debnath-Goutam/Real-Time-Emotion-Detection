


import numpy as np
import matplotlib.pyplot as plt
import seaborn as sns
import random as rn
import datetime
import os

from tensorflow import keras
from keras.models import Sequential
from keras.optimizers import Adam
from keras.layers import Flatten, Conv2D, Activation, BatchNormalization, Dense, Input, Dropout, GRU, LSTM, MaxPooling2D
from tensorflow.keras.preprocessing.image import ImageDataGenerator






train_dir = 'dataset/train/'
test_dir = 'dataset/test/'


datagen = ImageDataGenerator(
    rescale=1./255,        
    shear_range=0.2,       
    zoom_range=0.2,        
    horizontal_flip=True,  
)


train = datagen.flow_from_directory(
    train_dir,
    target_size=(64, 64),
    batch_size=32,
    class_mode='categorical',
    color_mode='grayscale',
    seed=40,
    shuffle=True
)


type(train)


test = datagen.flow_from_directory(
    test_dir,
    target_size=(64, 64),
    batch_size=32,
    class_mode='categorical',
    color_mode='grayscale',
    seed=40,
    shuffle=True
)








model = Sequential()

model.add(Input(shape=(64, 64, 1)))

model.add(Conv2D(32, (3, 3), activation='relu'))
model.add(MaxPooling2D(pool_size=(2, 2)))
model.add(Conv2D(32, (3, 3), activation='relu'))
model.add(MaxPooling2D(pool_size=(2, 2)))

model.add(Conv2D(64, (3, 3), activation='relu'))
model.add(MaxPooling2D(pool_size=(2, 2)))

model.add(Conv2D(128, (3, 3), activation='relu'))
model.add(MaxPooling2D(pool_size=(2, 2)))

model.add(Flatten())
model.add(Dense(128, activation='relu'))
model.add(Dense(7, activation='softmax'))


model.compile(optimizer='adam', loss='categorical_crossentropy', metrics=['categorical_accuracy'])


model.summary()


model.fit(
    train,
    epochs=50,
    verbose=1,
    validation_data=test
)





plt.figure(figsize=(20, 5))

# Accuracy subplot
plt.subplot(1, 2, 1)
plt.plot(model.history.history['categorical_accuracy'], label='Train Accuracy')
plt.plot(model.history.history['val_categorical_accuracy'], label='Validation Accuracy')
plt.title('Accuracy Graph')
plt.xlabel('Epoch')
plt.ylabel('Accuracy')
plt.legend()

# Loss subplot
plt.subplot(1, 2, 2)
plt.plot(model.history.history['loss'], label='Train Loss')
plt.plot(model.history.history['val_loss'], label='Validation Loss')
plt.title('Loss Graph')
plt.xlabel('Epoch')
plt.ylabel('Loss')
plt.legend()

plt.show()









datagen_1 = ImageDataGenerator(
    rotation_range=20,
    width_shift_range=0.2,
    height_shift_range=0.2,
    shear_range=0.2,
    zoom_range=0.2,
    horizontal_flip=True,
)


train_1 = datagen_1.flow_from_directory(
    train_dir,
    target_size=(64, 64),
    batch_size=32,
    class_mode='categorical',
    color_mode='grayscale',
    seed=40,
    shuffle=True
)


test_1 = datagen_1.flow_from_directory(
    test_dir,
    target_size=(64, 64),
    batch_size=32,
    class_mode='categorical',
    color_mode='grayscale',
    seed=40,
    shuffle=True
)


model = Sequential()

model.add(Input(shape=(64, 64, 1)))

model.add(Conv2D(32, (3, 3), activation='relu'))
model.add(MaxPooling2D(pool_size=(2, 2)))
model.add(Conv2D(32, (3, 3), activation='relu'))
model.add(MaxPooling2D(pool_size=(2, 2)))

model.add(Conv2D(64, (3, 3), activation='relu'))
model.add(MaxPooling2D(pool_size=(2, 2)))

model.add(Conv2D(128, (3, 3), activation='relu'))
model.add(MaxPooling2D(pool_size=(2, 2)))

model.add(Flatten())
model.add(Dense(128, activation='relu'))
model.add(Dense(7, activation='softmax'))


model.compile(optimizer='adam', loss='categorical_crossentropy', metrics=['categorical_accuracy'])


model.summary()


model.fit(
    train_1,
    epochs=50,
    verbose=1,
    validation_data=test_1
)





plt.figure(figsize=(20, 5))

# Accuracy subplot
plt.subplot(1, 2, 1)
plt.plot(model.history.history['categorical_accuracy'], label='Train Accuracy')
plt.plot(model.history.history['val_categorical_accuracy'], label='Validation Accuracy')
plt.title('Accuracy Graph')
plt.xlabel('Epoch')
plt.ylabel('Accuracy')
plt.legend()

# Loss subplot
plt.subplot(1, 2, 2)
plt.plot(model.history.history['loss'], label='Train Loss')
plt.plot(model.history.history['val_loss'], label='Validation Loss')
plt.title('Loss Graph')
plt.xlabel('Epoch')
plt.ylabel('Loss')
plt.legend()

plt.show()










